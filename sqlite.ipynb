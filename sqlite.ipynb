{
 "cells": [
  {
   "cell_type": "code",
   "execution_count": 5,
   "metadata": {
    "collapsed": false
   },
   "outputs": [],
   "source": [
    "import sqlite3\n",
    "\n",
    "TABLE_NAME = 'boards'\n",
    "\n",
    "CREATE_TABLE = '''\n",
    "CREATE TABLE IF NOT EXISTS {table_name} (id TEXT PRIMARY KEY, next_borads TEXT)\n",
    "'''.format(table_name=TABLE_NAME)\n",
    "\n",
    "try:\n",
    "    conn = sqlite3.connect('test.db')\n",
    "    # Make sure the table exist\n",
    "    conn.execute(CREATE_TABLE)\n",
    "    conn.close()\n",
    "except Exception as e:\n",
    "    print str(e)\n"
   ]
  },
  {
   "cell_type": "code",
   "execution_count": null,
   "metadata": {
    "collapsed": true
   },
   "outputs": [],
   "source": []
  }
 ],
 "metadata": {
  "kernelspec": {
   "display_name": "Python 2",
   "language": "python",
   "name": "python2"
  },
  "language_info": {
   "codemirror_mode": {
    "name": "ipython",
    "version": 2
   },
   "file_extension": ".py",
   "mimetype": "text/x-python",
   "name": "python",
   "nbconvert_exporter": "python",
   "pygments_lexer": "ipython2",
   "version": "2.7.12"
  }
 },
 "nbformat": 4,
 "nbformat_minor": 0
}
