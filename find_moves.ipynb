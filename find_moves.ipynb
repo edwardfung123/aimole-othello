{
 "cells": [
  {
   "cell_type": "code",
   "execution_count": 3,
   "metadata": {
    "collapsed": false
   },
   "outputs": [
    {
     "name": "stdout",
     "output_type": "stream",
     "text": [
      "(4, 2)\n",
      "{'B': 4, 'W': 1}\n",
      "(5, 3)\n",
      "{'B': 4, 'W': 1}\n",
      "(2, 4)\n",
      "{'B': 4, 'W': 1}\n",
      "(3, 5)\n",
      "{'B': 4, 'W': 1}\n"
     ]
    }
   ],
   "source": [
    "import os, sys\n",
    "from pprint import pprint as pp\n",
    "import logging\n",
    "\n",
    "import reservi\n",
    "#reservi.pp = pp\n",
    "\n",
    "input_file = 'sample.in'\n",
    "\n",
    "\n",
    "\n",
    "\n",
    "\n",
    "# lines = [\n",
    "#     'B W',\n",
    "#     'B' * 8,\n",
    "#     'B' * 8,\n",
    "#     'W' * 8,\n",
    "#     'B' * 8,\n",
    "#     'B' * 8,\n",
    "#     'B' * 8,\n",
    "#     'B' * 8,\n",
    "#     'B' * 8,\n",
    "# ]\n",
    "    \n",
    "try:\n",
    "    with open(input_file, 'r+') as f:\n",
    "        lines = f.read().splitlines()\n",
    "except Exception as e:\n",
    "    print e\n",
    "    print 'cannot open file perhaps'\n",
    "    raise\n",
    "me, opponent = lines[0].split()\n",
    "board = lines[1:]\n",
    "#pp(me)\n",
    "#pp(opponent)\n",
    "\n",
    "reservi.show_board(board)\n",
    "#         print is_cell_connected_to(2, 4, board, 'W')\n",
    "moves = reservi.find_moves(me, board)\n",
    "if len(moves) > 0:\n",
    "    reservi.pp(moves)\n",
    "    reservi.show_moves(moves, board)\n",
    "    for move in moves:\n",
    "        pp(move)\n",
    "        new_board = reservi.do_move(me, move, board)\n",
    "        reservi.show_board(new_board)\n",
    "        score = reservi.get_score(new_board)\n",
    "        pp(score)\n",
    "else:\n",
    "    print('No move. Game ended')\n",
    "    score = reservi.get_score(board)\n",
    "    #pp(score)\n"
   ]
  },
  {
   "cell_type": "code",
   "execution_count": null,
   "metadata": {
    "collapsed": false
   },
   "outputs": [],
   "source": [
    "s = 'abcde'\n",
    "x = 1\n",
    "print s[0:x] + 'x' + s[x+1:]\n"
   ]
  },
  {
   "cell_type": "code",
   "execution_count": null,
   "metadata": {
    "collapsed": true
   },
   "outputs": [],
   "source": []
  }
 ],
 "metadata": {
  "celltoolbar": "Edit Metadata",
  "kernelspec": {
   "display_name": "Python 2",
   "language": "python",
   "name": "python2"
  },
  "language_info": {
   "codemirror_mode": {
    "name": "ipython",
    "version": 2
   },
   "file_extension": ".py",
   "mimetype": "text/x-python",
   "name": "python",
   "nbconvert_exporter": "python",
   "pygments_lexer": "ipython2",
   "version": "2.7.12"
  }
 },
 "nbformat": 4,
 "nbformat_minor": 0
}
